{
 "cells": [
  {
   "cell_type": "code",
   "execution_count": 3,
   "id": "ad6551fe",
   "metadata": {},
   "outputs": [
    {
     "name": "stdout",
     "output_type": "stream",
     "text": [
      "Digite un número: 5\n",
      "Factorial of 5 is 120\n"
     ]
    }
   ],
   "source": [
    "def factorial(num): \n",
    "    if num < 0: \n",
    "        print(\"No existe, debe sert positivo\")\n",
    "\n",
    "    elif num == 0: \n",
    "        return 1\n",
    "        \n",
    "    else: \n",
    "        fact = 1\n",
    "        while(num > 1): \n",
    "            fact *= num \n",
    "            num -= 1\n",
    "        return fact \n",
    "\n",
    "num = int(input(\"Digite un número: \")); \n",
    "\n",
    "print(\"Número factorial de\",num,\"es\", factorial(num)) "
   ]
  },
  {
   "cell_type": "code",
   "execution_count": 4,
   "id": "d8799b09",
   "metadata": {},
   "outputs": [
    {
     "name": "stdout",
     "output_type": "stream",
     "text": [
      "Digite un número: 5\n",
      "Factorial of 5 is 120\n"
     ]
    }
   ],
   "source": [
    "def factorial(n): \n",
    "    return 1 if (n==1 or n==0) else n * factorial(n - 1);  \n",
    "  \n",
    "num = int(input(\"Digite un número: \")); \n",
    "print(\"Número factorial de\",num,\"es\", factorial(num))"
   ]
  },
  {
   "cell_type": "code",
   "execution_count": 7,
   "id": "494b0601",
   "metadata": {},
   "outputs": [
    {
     "data": {
      "text/plain": [
       "21"
      ]
     },
     "execution_count": 7,
     "metadata": {},
     "output_type": "execute_result"
    }
   ],
   "source": [
    "def fib(n):\n",
    "    if n < 2:\n",
    "        return n\n",
    "    else:\n",
    "        return fib(n-1) + fib(n-2)\n",
    "    \n",
    "fib(8)"
   ]
  },
  {
   "cell_type": "code",
   "execution_count": 1,
   "id": "a84edabd",
   "metadata": {},
   "outputs": [
    {
     "name": "stdout",
     "output_type": "stream",
     "text": [
      "[[1, 4, 9], [36, 81], [100, 144, 400, 900], [2304, 2601, 3481, 7396, 9025], [27556, 34225, 52441, 61009, 62001, 70225]]\n",
      "A: 9\n",
      "MERRY: 32001\n",
      "XMAS: 7396\n",
      "TO: 81\n",
      "ALL: 900\n",
      "Elapsed Time:  0.000997304916381836  seconds\n"
     ]
    }
   ],
   "source": [
    "from math import sqrt, floor\n",
    "import time\n",
    "\n",
    "def is_square_digitsum(n):\n",
    "    s = 0\n",
    "    while n > 0:\n",
    "        s += n % 10\n",
    "        n //= 10\n",
    "    if sqrt(s) == int(sqrt(s)):\n",
    "        return True\n",
    "    return False\n",
    "\n",
    "def find_all_squares():\n",
    "    sqrs = [[] for _ in range(5)]\n",
    "    for i in range(1, floor(sqrt(10 ** 5)) + 1):\n",
    "        n = i * i\n",
    "        if not is_square_digitsum(n):\n",
    "            continue\n",
    "        s = str(n)\n",
    "        if len(s) == 3 and s[1] != s[2]:\n",
    "            continue\n",
    "        if len(s) == 5 and s[2] != s[3]:\n",
    "            continue\n",
    "        if len(s) in  [4,5] and len(set(s)) != 4:\n",
    "            continue\n",
    "        sqrs[len(s) - 1].append(n)\n",
    "    return sqrs\n",
    "\n",
    "def promising(s, n, dic):\n",
    "    for i in range(len(s)):\n",
    "        digit = int(str(n)[i])\n",
    "        for key, value in dic.items():\n",
    "            if key == s[i] and value != digit:\n",
    "                return False\n",
    "            if value == digit and key != s[i]:\n",
    "                return False\n",
    "        return True\n",
    "\n",
    "def solve(words, dic, squares):\n",
    "    global solved\n",
    "    if (len(words) == 0):\n",
    "        solved = dic\n",
    "    else:\n",
    "        s = words[0]\n",
    "        candidates = squares[len(s) - 1]\n",
    "        for n in candidates:\n",
    "            if promising(s, n, dic):\n",
    "                newdic = dic.copy()\n",
    "                for i in range(len(s)):\n",
    "                    newdic[s[i]] = int(str(n)[i])\n",
    "                solve(words[1:], newdic, squares)\n",
    "\n",
    "def main():\n",
    "    squares = find_all_squares()\n",
    "    print(squares)\n",
    "    words = [\"A\", \"MERRY\", \"XMAS\", \"TO\", \"ALL\"]\n",
    "    dic = {}\n",
    "    solve(words, dic, squares)\n",
    "    for word in words:\n",
    "        print(word, end=\": \")\n",
    "        for c in word:\n",
    "            print(solved[c], end=\"\")\n",
    "        print()\n",
    "\n",
    "start = time.time()\n",
    "solved = {}\n",
    "main()\n",
    "end = time.time()\n",
    "print(\"Elapsed Time: \", end - start, \" seconds\")"
   ]
  },
  {
   "cell_type": "code",
   "execution_count": null,
   "id": "cd5d8247",
   "metadata": {},
   "outputs": [],
   "source": []
  }
 ],
 "metadata": {
  "kernelspec": {
   "display_name": "Python 3 (ipykernel)",
   "language": "python",
   "name": "python3"
  },
  "language_info": {
   "codemirror_mode": {
    "name": "ipython",
    "version": 3
   },
   "file_extension": ".py",
   "mimetype": "text/x-python",
   "name": "python",
   "nbconvert_exporter": "python",
   "pygments_lexer": "ipython3",
   "version": "3.9.12"
  }
 },
 "nbformat": 4,
 "nbformat_minor": 5
}
