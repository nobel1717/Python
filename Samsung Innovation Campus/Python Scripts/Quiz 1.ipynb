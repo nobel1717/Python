{
 "cells": [
  {
   "cell_type": "code",
   "execution_count": 1,
   "id": "7130f50f",
   "metadata": {},
   "outputs": [
    {
     "name": "stdout",
     "output_type": "stream",
     "text": [
      "1\n",
      "2\n",
      "3\n",
      "4\n",
      "5\n"
     ]
    }
   ],
   "source": [
    "num = [1,2,3,4,5]\n",
    "for x in num:\n",
    "    print(x)"
   ]
  },
  {
   "cell_type": "code",
   "execution_count": 7,
   "id": "96d7c893",
   "metadata": {},
   "outputs": [
    {
     "name": "stdout",
     "output_type": "stream",
     "text": [
      "Ingrese un número positivo: 943\n",
      "Ese número es impar\n"
     ]
    }
   ],
   "source": [
    "num = int(input(\"Ingrese un número positivo: \"))\n",
    "if num > 0:\n",
    "    if num % 2 == 0:\n",
    "        print(\"Ese número es par\")\n",
    "    else:\n",
    "        print(\"Ese número es impar\")\n",
    "else:\n",
    "    print(\"El número que ingresó es negativo o nulo\")"
   ]
  },
  {
   "cell_type": "code",
   "execution_count": 2,
   "id": "ea922c9b",
   "metadata": {},
   "outputs": [
    {
     "name": "stdout",
     "output_type": "stream",
     "text": [
      "******************\n",
      "##################\n"
     ]
    }
   ],
   "source": [
    "print('*' * 18)\n",
    "print('#' * 18)"
   ]
  },
  {
   "cell_type": "code",
   "execution_count": 3,
   "id": "9fdff05c",
   "metadata": {},
   "outputs": [
    {
     "name": "stdout",
     "output_type": "stream",
     "text": [
      "Nobel De Gracia ,Panamá\n"
     ]
    }
   ],
   "source": [
    "nombre = \"Nobel De Gracia\"\n",
    "direccion = \"Panamá\"\n",
    "Minombre = nombre + \" ,\" + direccion\n",
    "print(Minombre)"
   ]
  },
  {
   "cell_type": "code",
   "execution_count": 5,
   "id": "c10d5524",
   "metadata": {},
   "outputs": [
    {
     "name": "stdout",
     "output_type": "stream",
     "text": [
      "x\ty\tx or y\n",
      "----------------------\n",
      "False\tFalse\tFalse\n",
      "False\tTrue\tTrue\n",
      "True\tFalse\tTrue\n",
      "True\tTrue\tTrue\n",
      "\n"
     ]
    }
   ],
   "source": [
    "boolean = [False, True]\n",
    "\n",
    "print('x\\ty\\tx or y')\n",
    "print('-'*22)\n",
    "for x in boolean:\n",
    "    for y in boolean:\n",
    "        print(x, y, x or y, sep = '\\t')\n",
    "\n",
    "print()"
   ]
  },
  {
   "cell_type": "code",
   "execution_count": 6,
   "id": "158d2659",
   "metadata": {},
   "outputs": [
    {
     "name": "stdout",
     "output_type": "stream",
     "text": [
      "x\ty\tx and y\n",
      "----------------------\n",
      "False\tFalse\tFalse\n",
      "False\tTrue\tFalse\n",
      "True\tFalse\tFalse\n",
      "True\tTrue\tTrue\n",
      "\n"
     ]
    }
   ],
   "source": [
    "boolean = [False, True]\n",
    "print('x\\ty\\tx and y')\n",
    "print('-'*22)\n",
    "for x in boolean:\n",
    "    for y in boolean:\n",
    "        print(x, y, x and y, sep = '\\t')\n",
    "        \n",
    "print()"
   ]
  },
  {
   "cell_type": "code",
   "execution_count": 24,
   "id": "47a9b6ce",
   "metadata": {},
   "outputs": [
    {
     "name": "stdout",
     "output_type": "stream",
     "text": [
      "Ingrese un número entero: 56\n",
      "Ingrese otro número entero diferente: 36\n",
      "El número mayor es\n",
      "56\n"
     ]
    }
   ],
   "source": [
    "num1 = int(input(\"Ingrese un número entero: \"))\n",
    "num2 = int(input(\"Ingrese otro número entero diferente: \"))\n",
    "if num1 != num2:\n",
    "    if num1 > num2:\n",
    "        print(\"El número mayor es\")\n",
    "        print(num1)\n",
    "    else:\n",
    "        print(\"El número mayor es\")\n",
    "        print(num2)\n",
    "else:\n",
    "    print(\"Tiene que ser números enteros distintos\")"
   ]
  },
  {
   "cell_type": "code",
   "execution_count": 46,
   "id": "94a0424c",
   "metadata": {},
   "outputs": [
    {
     "name": "stdout",
     "output_type": "stream",
     "text": [
      "¿Es adulto o niño? \n",
      "  0 - adulto \n",
      "  1 - niño \n",
      "0\n",
      "¿Está casado o soltero? \n",
      "  0 - casado \n",
      "  1 - soltero \n",
      "1\n",
      "Pase al consultorio 2, muchas gracias\n"
     ]
    }
   ],
   "source": [
    "num1 = int(input(\"¿Es adulto o niño? \\n  0 - adulto \\n  1 - niño \\n\"))\n",
    "num2 = int(input(\"¿Está casado o soltero? \\n  0 - casado \\n  1 - soltero \\n\"))\n",
    "if num1 == 0:\n",
    "    if num2 == 0:\n",
    "        print(\"Pase al consultorio 1, muchas gracias\")\n",
    "    else:\n",
    "        print(\"Pase al consultorio 2, muchas gracias\")\n",
    "else:\n",
    "    print(\"Listo, pase al área de niños\")"
   ]
  },
  {
   "cell_type": "code",
   "execution_count": 58,
   "id": "3de6603b",
   "metadata": {},
   "outputs": [
    {
     "name": "stdout",
     "output_type": "stream",
     "text": [
      "2\n",
      "3\n",
      "5\n",
      "7\n",
      "11\n",
      "13\n",
      "17\n",
      "19\n",
      "23\n",
      "29\n",
      "31\n",
      "37\n",
      "41\n",
      "43\n",
      "47\n",
      "53\n",
      "59\n",
      "61\n",
      "67\n",
      "71\n",
      "73\n",
      "79\n",
      "83\n",
      "89\n",
      "97\n"
     ]
    }
   ],
   "source": [
    "for i in range(1, 100+1):\n",
    "    if i>1:\n",
    "        for p in range(2, i):\n",
    "            if(i %  p==0):\n",
    "                break\n",
    "        else:\n",
    "            print(i)"
   ]
  },
  {
   "cell_type": "code",
   "execution_count": 64,
   "id": "f09f6292",
   "metadata": {},
   "outputs": [
    {
     "name": "stdout",
     "output_type": "stream",
     "text": [
      "Enter a number: 432\n",
      "432 is not an Armstrong number\n"
     ]
    }
   ],
   "source": [
    "num = int(input(\"Enter a number: \"))\n",
    "\n",
    "sum = 0\n",
    "\n",
    "temp = num\n",
    "while temp > 0:\n",
    "   digit = temp % 10\n",
    "   sum += digit ** 3\n",
    "   temp //= 10\n",
    "\n",
    "if num == sum:\n",
    "   print(num,\"is an Armstrong number\")\n",
    "else:\n",
    "   print(num,\"is not an Armstrong number\")"
   ]
  },
  {
   "cell_type": "code",
   "execution_count": 70,
   "id": "14f02fbb",
   "metadata": {},
   "outputs": [
    {
     "name": "stdout",
     "output_type": "stream",
     "text": [
      "Introduce un número: 547\n",
      "Este número no es Armstrong\n"
     ]
    }
   ],
   "source": [
    "numero = int(input(\"Introduce un número: \"))\n",
    "num = numero\n",
    "digito, sum = 0, 0\n",
    "lon = len(str(num))\n",
    "for i in range(length):\n",
    "    digito = int(num%10)\n",
    "    num = num/10\n",
    "    sum += pow(digito,lon)\n",
    "if sum==number:\n",
    "    print(\"Este número es Armstrong\")\n",
    "else:\n",
    "    print(\"Este número no es Armstrong\")"
   ]
  },
  {
   "cell_type": "code",
   "execution_count": null,
   "id": "b7edf68a",
   "metadata": {},
   "outputs": [],
   "source": []
  }
 ],
 "metadata": {
  "kernelspec": {
   "display_name": "Python 3 (ipykernel)",
   "language": "python",
   "name": "python3"
  },
  "language_info": {
   "codemirror_mode": {
    "name": "ipython",
    "version": 3
   },
   "file_extension": ".py",
   "mimetype": "text/x-python",
   "name": "python",
   "nbconvert_exporter": "python",
   "pygments_lexer": "ipython3",
   "version": "3.9.12"
  }
 },
 "nbformat": 4,
 "nbformat_minor": 5
}
