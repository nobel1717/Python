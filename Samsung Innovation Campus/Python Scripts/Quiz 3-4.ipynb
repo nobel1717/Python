{
 "cells": [
  {
   "cell_type": "code",
   "execution_count": 1,
   "id": "2ba03d07",
   "metadata": {},
   "outputs": [
    {
     "name": "stdout",
     "output_type": "stream",
     "text": [
      "Ingresa el valor de x1: 2\n",
      "Ingresa el valor de x2: 10\n",
      "Ingresa el valor de y1: 5\n",
      "Ingresa el valor de y2: 5\n",
      "Valor de distancia: 8.0\n",
      "\n"
     ]
    }
   ],
   "source": [
    "import math\n",
    "\n",
    "x1 = float (input ('Ingresa el valor de x1: '))\n",
    "x2 = float (input ('Ingresa el valor de x2: '))\n",
    "y1 = float (input ('Ingresa el valor de y1: '))\n",
    "y2 = float (input ('Ingresa el valor de y2: '))\n",
    "distancia=math.sqrt((x1-x2)*(x1-x2)+(y1-y2)*(y1-y2))\n",
    "print ('Valor de distancia: ' + repr (distancia))\n",
    "print ()"
   ]
  },
  {
   "cell_type": "code",
   "execution_count": 16,
   "id": "0156c385",
   "metadata": {},
   "outputs": [
    {
     "name": "stdout",
     "output_type": "stream",
     "text": [
      "Digite una palabra: anita lava la tina\n",
      "No\n"
     ]
    }
   ],
   "source": [
    "def isPalindrome(s):\n",
    "    return s == s[::-1]\n",
    "\n",
    "s = input(\"Digite una palabra: \")\n",
    "ans = isPalindrome(s)\n",
    " \n",
    "if ans:\n",
    "    print(\"Yes\")\n",
    "else:\n",
    "    print(\"No\")"
   ]
  },
  {
   "cell_type": "code",
   "execution_count": 18,
   "id": "6adb91f6",
   "metadata": {},
   "outputs": [
    {
     "data": {
      "text/plain": [
       "[20, 40, 60]"
      ]
     },
     "execution_count": 18,
     "metadata": {},
     "output_type": "execute_result"
    }
   ],
   "source": [
    "n_list = [10, 20, 30]\n",
    "\n",
    "list( map(lambda x: x*2, c) )"
   ]
  },
  {
   "cell_type": "code",
   "execution_count": 19,
   "id": "4697cbab",
   "metadata": {},
   "outputs": [
    {
     "data": {
      "text/plain": [
       "[30, 60, 90]"
      ]
     },
     "execution_count": 19,
     "metadata": {},
     "output_type": "execute_result"
    }
   ],
   "source": [
    "n_list = [10, 20, 30]\n",
    "\n",
    "list( map(lambda x: x*3, c) )"
   ]
  },
  {
   "cell_type": "code",
   "execution_count": 20,
   "id": "f00e3bf8",
   "metadata": {},
   "outputs": [
    {
     "data": {
      "text/plain": [
       "[40, 80, 120]"
      ]
     },
     "execution_count": 20,
     "metadata": {},
     "output_type": "execute_result"
    }
   ],
   "source": [
    "n_list = [10, 20, 30]\n",
    "\n",
    "list( map(lambda x: x*4, c) )"
   ]
  },
  {
   "cell_type": "code",
   "execution_count": 21,
   "id": "c6626463",
   "metadata": {},
   "outputs": [
    {
     "name": "stdout",
     "output_type": "stream",
     "text": [
      "1\n",
      "4\n",
      "27\n",
      "256\n",
      "3125\n"
     ]
    }
   ],
   "source": [
    "def calc_digit(n):\n",
    "    def final(digit):\n",
    "        return digit**n\n",
    "    return final\n",
    "num_list=[]\n",
    "for num in range(1,6):\n",
    "    num_list.append(calc_digit(num))\n",
    "    print(num_list[num - 1](num))"
   ]
  },
  {
   "cell_type": "code",
   "execution_count": 64,
   "id": "98dab95a",
   "metadata": {},
   "outputs": [
    {
     "name": "stdout",
     "output_type": "stream",
     "text": [
      "300 800\n",
      "3.0 2.0\n"
     ]
    }
   ],
   "source": [
    "class Vector2D:\n",
    "    def __init__(self, value, value2):\n",
    "        self.value = value\n",
    "        self.value2 = value2\n",
    "        \n",
    "    def __mul__(self, other):\n",
    "        return Vector2D(self.value * other.value, self.value2 * other.value2)\n",
    "    def __truediv__(self, other):\n",
    "        return Vector2D(self.value / other.value, self.value2 / other.value2)\n",
    "\n",
    "v1 = Vector2D(30,40)\n",
    "v2 = Vector2D(10,20)\n",
    "v3 = v1 * v2\n",
    "v4 = v1 / v2\n",
    "print(v3.value,v3.value2)\n",
    "print(v4.value, v4.value2)\n"
   ]
  },
  {
   "cell_type": "code",
   "execution_count": 69,
   "id": "fcb0b785",
   "metadata": {},
   "outputs": [
    {
     "name": "stdout",
     "output_type": "stream",
     "text": [
      "['Strawberry', 'Apple', 'Banana']\n"
     ]
    }
   ],
   "source": [
    "class Stack:\n",
    "    def __init__(self):\n",
    "         self.items = []\n",
    "    def is_empty(self): # Metodo para verificar si la pila esta vacia\n",
    "        return self.items == []\n",
    "     \n",
    "    def push(self, item): # Metodo para insertar elementos a la pila\n",
    "        self.items.insert(0, item)\n",
    "     \n",
    "    def pop(self): # Metodo para eliminar el ultimo elemento apilado\n",
    "        return self.items.pop(0)\n",
    "     \n",
    "    def print_stack(self): # Metodo para mostrar los elementos de la pila\n",
    "        print(self.items)\n",
    "        \n",
    "stack = Stack()\n",
    "stack.push(\"Banana\")\n",
    "stack.push(\"Apple\")\n",
    "stack.push(\"Tomato\")\n",
    "stack.pop()\n",
    "stack.push(\"Strawberry\")\n",
    "stack.push(\"Grapes\")\n",
    "stack.pop()\n",
    "stack.print_stack()"
   ]
  },
  {
   "cell_type": "code",
   "execution_count": 79,
   "id": "d1dfc47e",
   "metadata": {},
   "outputs": [
    {
     "name": "stdout",
     "output_type": "stream",
     "text": [
      "[90, 70, 50, 30, 10]\n"
     ]
    }
   ],
   "source": [
    "stack = Stack()\n",
    "items = [10* i for i in range(1,10)]\n",
    "for item in items:\n",
    "    stack.push(item)\n",
    "    if (item // 10)%2 == 0:\n",
    "        stack.pop()\n",
    "stack.print_stack()"
   ]
  },
  {
   "cell_type": "code",
   "execution_count": 81,
   "id": "89a39379",
   "metadata": {},
   "outputs": [
    {
     "data": {
      "text/plain": [
       "5"
      ]
     },
     "execution_count": 81,
     "metadata": {},
     "output_type": "execute_result"
    }
   ],
   "source": [
    "class Queue:\n",
    "    def __init__(self):\n",
    "        self.items = []\n",
    "\n",
    "    def is_empty(self):\n",
    "        return self.items == []\n",
    "\n",
    "    def enqueue(self, item):\n",
    "        self.items.insert(0,item)\n",
    "\n",
    "    def dequeue(self):\n",
    "        return self.items.pop()\n",
    "\n",
    "    def print_queue(self):\n",
    "        return len(self.items)\n",
    "    \n",
    "queue = Queue()\n",
    "items = [10* i for i in range(1,11)]\n",
    "for item in items:\n",
    "    queue.enqueue(item)\n",
    "    if (item // 10)%2 == 0:\n",
    "        queue.dequeue()\n",
    "queue.print_queue()"
   ]
  },
  {
   "cell_type": "code",
   "execution_count": 83,
   "id": "eebad0d3",
   "metadata": {},
   "outputs": [
    {
     "name": "stdout",
     "output_type": "stream",
     "text": [
      "59 11\n"
     ]
    }
   ],
   "source": [
    "def find_two(nums):\n",
    "    x = y = 0\n",
    "    for i in range(1, len(nums)):\n",
    "        if nums[x] < nums[i]:\n",
    "            x = i\n",
    "        elif nums[y] > nums[i]:\n",
    "            y = i\n",
    "    return x,y\n",
    "\n",
    "nums = [11,37,45,26,59,28,17,53]\n",
    "i,j = find_two(nums)\n",
    "print(nums[i],nums[j])"
   ]
  },
  {
   "cell_type": "code",
   "execution_count": 101,
   "id": "1a52d334",
   "metadata": {},
   "outputs": [
    {
     "name": "stdout",
     "output_type": "stream",
     "text": [
      "59 11 53\n",
      "7 3 0\n"
     ]
    }
   ],
   "source": [
    "\n",
    "def find_two(nums):\n",
    "    x = y = a = b = c = 0\n",
    "    for i in range(1, len(nums)):\n",
    "        a = a + 1\n",
    "        if nums[x] < nums[i]:\n",
    "            x = i\n",
    "            b = b + 1\n",
    "        elif nums[y] > nums[i]:\n",
    "            y = i\n",
    "            c = c + 1\n",
    "    return x,y,a,b,c\n",
    "\n",
    "nums = [11,37,45,26,59,28,17,53]\n",
    "\n",
    "i,j, a,b,c = find_two(nums)\n",
    "print(nums[i],nums[j],nums[a])\n",
    "print(a,b,c)"
   ]
  },
  {
   "cell_type": "code",
   "execution_count": 103,
   "id": "c8528112",
   "metadata": {},
   "outputs": [
    {
     "name": "stdout",
     "output_type": "stream",
     "text": [
      "Enter the number of maximum: 100\n",
      "Enter your guessing number: 51\n",
      "Your number is 51.\n",
      "Total 6 times are searched.\n"
     ]
    }
   ],
   "source": [
    "from random import randint\n",
    "\n",
    "maximum = int(input(\"Enter the number of maximum: \"))\n",
    "number = int(input(\"Enter your guessing number: \"))\n",
    "count = 0\n",
    "low, high = 1, maximum\n",
    "while low < high:\n",
    "    mid = (low + high) // 2\n",
    "    count += 1\n",
    "    if mid == number: \n",
    "        print(f\"Your number is {number}.\") \n",
    "        break\n",
    "    elif mid > number:\n",
    "        high = mid - 1\n",
    "    else:\n",
    "        low = mid + 1\n",
    "    \n",
    "print(f\"Total {count} times are searched.\")"
   ]
  },
  {
   "cell_type": "code",
   "execution_count": 118,
   "id": "da8602a9",
   "metadata": {},
   "outputs": [
    {
     "name": "stdout",
     "output_type": "stream",
     "text": [
      "Enter the number of maximum: 100\n",
      "Enter your guessing number: 25\n",
      "Your number is 25.\n",
      "Total 2 times are searched.\n"
     ]
    }
   ],
   "source": [
    "from random import randint\n",
    "\n",
    "maximum = int(input(\"Enter the number of maximum: \"))\n",
    "number = int(input(\"Enter your guessing number: \"))\n",
    "count = 0\n",
    "low, high = 1, maximum\n",
    "while low < high:\n",
    "    mid = (low + high) // 2\n",
    "    count += 1\n",
    "    if mid == number: \n",
    "        print(f\"Your number is {number}.\") \n",
    "        break\n",
    "    elif mid > number:\n",
    "        high = mid - 1\n",
    "    else:\n",
    "        low = mid + 1\n",
    "    \n",
    "print(f\"Total {count} times are searched.\")"
   ]
  },
  {
   "cell_type": "code",
   "execution_count": 119,
   "id": "c03cbddb",
   "metadata": {},
   "outputs": [
    {
     "name": "stdout",
     "output_type": "stream",
     "text": [
      "0x1f83ec9eb90\n"
     ]
    }
   ],
   "source": [
    "class hash_table:\n",
    "    def __init__(self):\n",
    "        self.table = [None] * 127\n",
    "    \n",
    "    # Función hash\n",
    "    def Hash_func(self, value):\n",
    "        key = 0\n",
    "        for i in range(0,len(value)):\n",
    "            key += ord(value[i])\n",
    "        return key % 127\n",
    "\n",
    "    def Insert(self, value):\n",
    "        hash = self.Hash_func(value)\n",
    "        if self.table[hash] is None:\n",
    "            self.table[hash] = value\n",
    "   \n",
    "    def Search(self,value):\n",
    "        hash = self.Hash_func(value);\n",
    "        if self.table[hash] is None:\n",
    "            return None\n",
    "        else:\n",
    "            return hex(id(self.table[hash]))\n",
    "  \n",
    "    def Remove(self,value): \n",
    "        hash = self.Hash_func(value);\n",
    "        if self.table[hash] is None:\n",
    "            print(\"No hay elementos con ese valor\", value)\n",
    "        else:\n",
    "            print(\"Elemento con valor\", value, \"eliminado\")\n",
    "            self.table[hash] is None;\n",
    "        \n",
    "        \n",
    "H = hash_table()\n",
    "wo = \"Alicia en el país de las maravillas\"\n",
    "H.Insert(wo)\n",
    "\n",
    "print(H.Search(wo))"
   ]
  },
  {
   "cell_type": "code",
   "execution_count": 147,
   "id": "ef8fa2cd",
   "metadata": {},
   "outputs": [
    {
     "ename": "NameError",
     "evalue": "name 'Hash_table' is not defined",
     "output_type": "error",
     "traceback": [
      "\u001b[1;31m---------------------------------------------------------------------------\u001b[0m",
      "\u001b[1;31mNameError\u001b[0m                                 Traceback (most recent call last)",
      "Input \u001b[1;32mIn [147]\u001b[0m, in \u001b[0;36m<cell line: 1>\u001b[1;34m()\u001b[0m\n\u001b[1;32m----> 1\u001b[0m table \u001b[38;5;241m=\u001b[39m \u001b[43mHash_table\u001b[49m(\u001b[38;5;241m10\u001b[39m)\n\u001b[0;32m      2\u001b[0m books \u001b[38;5;241m=\u001b[39m [ \u001b[38;5;124m\"\u001b[39m\u001b[38;5;124mThe Little Prince\u001b[39m\u001b[38;5;124m\"\u001b[39m,\n\u001b[0;32m      3\u001b[0m     \u001b[38;5;124m\"\u001b[39m\u001b[38;5;124mThe Old Man and the Sea\u001b[39m\u001b[38;5;124m\"\u001b[39m,\n\u001b[0;32m      4\u001b[0m     \u001b[38;5;124m\"\u001b[39m\u001b[38;5;124mThe Little Mermaid\u001b[39m\u001b[38;5;124m\"\u001b[39m, \n\u001b[1;32m   (...)\u001b[0m\n\u001b[0;32m      7\u001b[0m     \u001b[38;5;124m\"\u001b[39m\u001b[38;5;124mAlice in Wonderland\u001b[39m\u001b[38;5;124m\"\u001b[39m\n\u001b[0;32m      8\u001b[0m ]\n\u001b[0;32m     10\u001b[0m \u001b[38;5;28;01mfor\u001b[39;00m book \u001b[38;5;129;01min\u001b[39;00m books: \n",
      "\u001b[1;31mNameError\u001b[0m: name 'Hash_table' is not defined"
     ]
    }
   ],
   "source": [
    "table = Hash_table(10)\n",
    "books = [ \"The Little Prince\",\n",
    "    \"The Old Man and the Sea\",\n",
    "    \"The Little Mermaid\", \n",
    "    \"Beauty and the Beast\",\n",
    "    \"The Last Leaf\", \n",
    "    \"Alice in Wonderland\"\n",
    "]\n",
    "\n",
    "for book in books: \n",
    "    key= sum(map(ord, book)) \n",
    "    table.put(key, book) \n",
    "for key in table.table.keys(): \n",
    "    print(key, table.table[key])"
   ]
  },
  {
   "cell_type": "code",
   "execution_count": 152,
   "id": "c6e69613",
   "metadata": {},
   "outputs": [
    {
     "name": "stdout",
     "output_type": "stream",
     "text": [
      "Books#  1  : The Old Man and the Sea  \n",
      "\n",
      "Books#  2  : The Little Mermaid  \n",
      "\n",
      "Books#  3  : Beauty and the Beast  \n",
      "\n",
      "Books#  4  : The Last Leaf  \n",
      "\n",
      "Books#  5  : Alice in WonderlandEmpty  \n",
      "\n",
      "Books#  6  : Empty  \n",
      "\n",
      "Books#  7  : Empty  \n",
      "\n",
      "Books#  8  : Empty  \n",
      "\n",
      "Books#  9  : Empty  \n",
      "\n"
     ]
    }
   ],
   "source": [
    "books = [ \"The Little Prince\",\n",
    "    \"The Old Man and the Sea\",\n",
    "    \"The Little Mermaid\", \n",
    "    \"Beauty and the Beast\",\n",
    "    \"The Last Leaf\", \n",
    "    \"Alice in Wonderland\"\n",
    "    \"Empty\",\n",
    "    \"Empty\",\n",
    "    \"Empty\",\n",
    "    \"Empty\",\n",
    "    \"Empty\",\n",
    "    \"Empty\",\n",
    "]\n",
    "for i in range(1,10): \n",
    "    print(\"Books# \", i , \" :\", books[i],\" \\n\")"
   ]
  },
  {
   "cell_type": "code",
   "execution_count": null,
   "id": "00cb5e50",
   "metadata": {},
   "outputs": [],
   "source": []
  }
 ],
 "metadata": {
  "kernelspec": {
   "display_name": "Python 3 (ipykernel)",
   "language": "python",
   "name": "python3"
  },
  "language_info": {
   "codemirror_mode": {
    "name": "ipython",
    "version": 3
   },
   "file_extension": ".py",
   "mimetype": "text/x-python",
   "name": "python",
   "nbconvert_exporter": "python",
   "pygments_lexer": "ipython3",
   "version": "3.9.12"
  }
 },
 "nbformat": 4,
 "nbformat_minor": 5
}
