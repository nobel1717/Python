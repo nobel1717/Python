{
 "cells": [
  {
   "cell_type": "code",
   "execution_count": 15,
   "id": "f29fd281",
   "metadata": {},
   "outputs": [
    {
     "name": "stdout",
     "output_type": "stream",
     "text": [
      "I like pancake.\n",
      "I like kiwi juice.\n",
      "I like espresso.\n",
      "I love pancake.\n",
      "I love kiwi juice.\n",
      "I love espresso.\n"
     ]
    }
   ],
   "source": [
    "l1 = ['I like', 'I love']\n",
    "l2 = ['pancake.', 'kiwi juice.', 'espresso.']\n",
    "for i in range(1):\n",
    "    for i1 in range(len(l2)):\n",
    "        print(l1[i] + \" \" + l2[i1])\n",
    "    for i2 in range(len(l2)):\n",
    "        print(l1[i + 1] + \" \" + l2[i2])"
   ]
  },
  {
   "cell_type": "code",
   "execution_count": 17,
   "id": "9959f9c4",
   "metadata": {},
   "outputs": [
    {
     "name": "stdout",
     "output_type": "stream",
     "text": [
      "Agrege su nombre: Nobel De Gracia\n",
      "Jhon Doe\n",
      "26\n",
      "Nobel De Gracia\n"
     ]
    }
   ],
   "source": [
    "person = {'Name': 'David Doe', 'Age': 26, 'Weight': 82, 'Job':'Data Scientist'}\n",
    "person['Padre'] = 'Jhon Doe'\n",
    "ent = input(\"Agrege su nombre: \")\n",
    "person['Nombre'] = ent\n",
    "print(person['Padre'])\n",
    "print(person['Age'])\n",
    "print(person['Nombre'])"
   ]
  },
  {
   "cell_type": "code",
   "execution_count": 25,
   "id": "82951756",
   "metadata": {},
   "outputs": [
    {
     "name": "stdout",
     "output_type": "stream",
     "text": [
      "5\n",
      "6\n",
      "3\n",
      "9\n",
      "2\n",
      "3\n",
      "8\n",
      "7\n",
      "12\n"
     ]
    }
   ],
   "source": [
    "list = [5, 6, 3, 9, 2, 12, 3, 8, 7]\n",
    "list += [list.pop(5)]\n",
    "for i in range(len(list)):\n",
    "    print(list[i])"
   ]
  },
  {
   "cell_type": "code",
   "execution_count": 1,
   "id": "3c2e4411",
   "metadata": {},
   "outputs": [
    {
     "name": "stdout",
     "output_type": "stream",
     "text": [
      "1\n",
      "2\n",
      "3\n",
      "4\n",
      "5\n",
      "6\n"
     ]
    }
   ],
   "source": [
    "import numpy as np\n",
    "my_list = np.array([[1, 2], [3, 4], [5, 6]])\n",
    "\n",
    "new_list = np.concatenate(my_list)\n",
    "\n",
    "for i in range(len(new_list)):\n",
    "    print(new_list[i])"
   ]
  },
  {
   "cell_type": "code",
   "execution_count": 25,
   "id": "69b2868b",
   "metadata": {},
   "outputs": [
    {
     "name": "stdout",
     "output_type": "stream",
     "text": [
      "Las notas de María son: \n",
      "89.25\n"
     ]
    }
   ],
   "source": [
    "maria = {'korean':94, 'english':91, 'mathematics':89, 'science':83}\n",
    "suma = 0\n",
    "for i in maria.values():\n",
    "    suma += i\n",
    "    \n",
    "prom = suma / len(maria.values())\n",
    "\n",
    "print(\"Las notas de María son: \")\n",
    "print(prom)"
   ]
  },
  {
   "cell_type": "code",
   "execution_count": 29,
   "id": "6940aabe",
   "metadata": {},
   "outputs": [
    {
     "name": "stdout",
     "output_type": "stream",
     "text": [
      "false\n"
     ]
    }
   ],
   "source": [
    "import copy\n",
    "school = {'kim':{'age':16,'hei':170,'grade':3}, 'lee':{'age':15,'hei':168,'grade':2},\n",
    "         'kim':{'age':14,'hei':173,'grade':1}}\n",
    "school2 = copy.deepcopy(school)\n",
    "if school == school2:\n",
    "    print(\"false\")\n",
    "else:\n",
    "    print(\"true\")    "
   ]
  },
  {
   "cell_type": "code",
   "execution_count": 30,
   "id": "2f6cfcd5",
   "metadata": {},
   "outputs": [
    {
     "name": "stdout",
     "output_type": "stream",
     "text": [
      "China: 1391 millones de habitantes.\n",
      "India: 1364 millones de habitantes.\n",
      "Estados Unidos: 327 millones de habitantes.\n",
      "Indonesia: 264 millones de habitantes.\n"
     ]
    }
   ],
   "source": [
    "paises = (\"China\",\"India\",\"Estados Unidos\", \"Indonesia\")\n",
    "poblaciones = (1391, 1364, 327, 264)\n",
    "for pais, poblacion in zip(paises, poblaciones):\n",
    "     print(\"{}: {} millones de habitantes.\".format(pais, poblacion))\n",
    "        "
   ]
  },
  {
   "cell_type": "code",
   "execution_count": null,
   "id": "a6ba9558",
   "metadata": {},
   "outputs": [],
   "source": []
  }
 ],
 "metadata": {
  "kernelspec": {
   "display_name": "Python 3 (ipykernel)",
   "language": "python",
   "name": "python3"
  },
  "language_info": {
   "codemirror_mode": {
    "name": "ipython",
    "version": 3
   },
   "file_extension": ".py",
   "mimetype": "text/x-python",
   "name": "python",
   "nbconvert_exporter": "python",
   "pygments_lexer": "ipython3",
   "version": "3.9.12"
  }
 },
 "nbformat": 4,
 "nbformat_minor": 5
}
