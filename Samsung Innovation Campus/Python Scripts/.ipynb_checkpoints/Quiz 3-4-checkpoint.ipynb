{
 "cells": [
  {
   "cell_type": "code",
   "execution_count": 1,
   "id": "02564fbc",
   "metadata": {},
   "outputs": [
    {
     "name": "stdout",
     "output_type": "stream",
     "text": [
      "Ingresa el valor de x1: 2\n",
      "Ingresa el valor de x2: 10\n",
      "Ingresa el valor de y1: 5\n",
      "Ingresa el valor de y2: 5\n",
      "Valor de distancia: 8.0\n",
      "\n"
     ]
    }
   ],
   "source": [
    "import math\n",
    "\n",
    "x1 = float (input ('Ingresa el valor de x1: '))\n",
    "x2 = float (input ('Ingresa el valor de x2: '))\n",
    "y1 = float (input ('Ingresa el valor de y1: '))\n",
    "y2 = float (input ('Ingresa el valor de y2: '))\n",
    "distancia=math.sqrt((x1-x2)*(x1-x2)+(y1-y2)*(y1-y2))\n",
    "print ('Valor de distancia: ' + repr (distancia))\n",
    "print ()"
   ]
  },
  {
   "cell_type": "code",
   "execution_count": 16,
   "id": "3caa5c30",
   "metadata": {},
   "outputs": [
    {
     "name": "stdout",
     "output_type": "stream",
     "text": [
      "Digite una palabra: anita lava la tina\n",
      "No\n"
     ]
    }
   ],
   "source": [
    "def isPalindrome(s):\n",
    "    return s == s[::-1]\n",
    "\n",
    "s = input(\"Digite una palabra: \")\n",
    "ans = isPalindrome(s)\n",
    " \n",
    "if ans:\n",
    "    print(\"Yes\")\n",
    "else:\n",
    "    print(\"No\")"
   ]
  },
  {
   "cell_type": "code",
   "execution_count": 18,
   "id": "36c81b20",
   "metadata": {},
   "outputs": [
    {
     "data": {
      "text/plain": [
       "[20, 40, 60]"
      ]
     },
     "execution_count": 18,
     "metadata": {},
     "output_type": "execute_result"
    }
   ],
   "source": [
    "n_list = [10, 20, 30]\n",
    "\n",
    "list( map(lambda x: x*2, c) )"
   ]
  },
  {
   "cell_type": "code",
   "execution_count": 19,
   "id": "fcf5b86a",
   "metadata": {},
   "outputs": [
    {
     "data": {
      "text/plain": [
       "[30, 60, 90]"
      ]
     },
     "execution_count": 19,
     "metadata": {},
     "output_type": "execute_result"
    }
   ],
   "source": [
    "n_list = [10, 20, 30]\n",
    "\n",
    "list( map(lambda x: x*3, c) )"
   ]
  },
  {
   "cell_type": "code",
   "execution_count": 20,
   "id": "e1fd6bf9",
   "metadata": {},
   "outputs": [
    {
     "data": {
      "text/plain": [
       "[40, 80, 120]"
      ]
     },
     "execution_count": 20,
     "metadata": {},
     "output_type": "execute_result"
    }
   ],
   "source": [
    "n_list = [10, 20, 30]\n",
    "\n",
    "list( map(lambda x: x*4, c) )"
   ]
  },
  {
   "cell_type": "code",
   "execution_count": 21,
   "id": "b11999c5",
   "metadata": {},
   "outputs": [
    {
     "name": "stdout",
     "output_type": "stream",
     "text": [
      "1\n",
      "4\n",
      "27\n",
      "256\n",
      "3125\n"
     ]
    }
   ],
   "source": [
    "def calc_digit(n):\n",
    "    def final(digit):\n",
    "        return digit**n\n",
    "    return final\n",
    "num_list=[]\n",
    "for num in range(1,6):\n",
    "    num_list.append(calc_digit(num))\n",
    "    print(num_list[num - 1](num))"
   ]
  },
  {
   "cell_type": "code",
   "execution_count": 64,
   "id": "c13a5980",
   "metadata": {},
   "outputs": [
    {
     "name": "stdout",
     "output_type": "stream",
     "text": [
      "300 800\n",
      "3.0 2.0\n"
     ]
    }
   ],
   "source": [
    "class Vector2D:\n",
    "    def __init__(self, value, value2):\n",
    "        self.value = value\n",
    "        self.value2 = value2\n",
    "        \n",
    "    def __mul__(self, other):\n",
    "        return Vector2D(self.value * other.value, self.value2 * other.value2)\n",
    "    def __truediv__(self, other):\n",
    "        return Vector2D(self.value / other.value, self.value2 / other.value2)\n",
    "\n",
    "v1 = Vector2D(30,40)\n",
    "v2 = Vector2D(10,20)\n",
    "v3 = v1 * v2\n",
    "v4 = v1 / v2\n",
    "print(v3.value,v3.value2)\n",
    "print(v4.value, v4.value2)\n"
   ]
  },
  {
   "cell_type": "code",
   "execution_count": 69,
   "id": "ff4e02d2",
   "metadata": {},
   "outputs": [
    {
     "name": "stdout",
     "output_type": "stream",
     "text": [
      "['Strawberry', 'Apple', 'Banana']\n"
     ]
    }
   ],
   "source": [
    "class Stack:\n",
    "    def __init__(self):\n",
    "         self.items = []\n",
    "    def is_empty(self): # Metodo para verificar si la pila esta vacia\n",
    "        return self.items == []\n",
    "     \n",
    "    def push(self, item): # Metodo para insertar elementos a la pila\n",
    "        self.items.insert(0, item)\n",
    "     \n",
    "    def pop(self): # Metodo para eliminar el ultimo elemento apilado\n",
    "        return self.items.pop(0)\n",
    "     \n",
    "    def print_stack(self): # Metodo para mostrar los elementos de la pila\n",
    "        print(self.items)\n",
    "        \n",
    "stack = Stack()\n",
    "stack.push(\"Banana\")\n",
    "stack.push(\"Apple\")\n",
    "stack.push(\"Tomato\")\n",
    "stack.pop()\n",
    "stack.push(\"Strawberry\")\n",
    "stack.push(\"Grapes\")\n",
    "stack.pop()\n",
    "stack.print_stack()"
   ]
  },
  {
   "cell_type": "code",
   "execution_count": 72,
   "id": "d20b56b2",
   "metadata": {},
   "outputs": [
    {
     "ename": "AttributeError",
     "evalue": "type object 'Stack' has no attribute 'stack'",
     "output_type": "error",
     "traceback": [
      "\u001b[1;31m---------------------------------------------------------------------------\u001b[0m",
      "\u001b[1;31mAttributeError\u001b[0m                            Traceback (most recent call last)",
      "Input \u001b[1;32mIn [72]\u001b[0m, in \u001b[0;36m<cell line: 7>\u001b[1;34m()\u001b[0m\n\u001b[0;32m      5\u001b[0m     \u001b[38;5;28;01mif\u001b[39;00m (item \u001b[38;5;241m/\u001b[39m\u001b[38;5;241m/\u001b[39m \u001b[38;5;241m10\u001b[39m)\u001b[38;5;241m%\u001b[39m\u001b[38;5;241m2\u001b[39m \u001b[38;5;241m==\u001b[39m \u001b[38;5;241m0\u001b[39m:\n\u001b[0;32m      6\u001b[0m         stack\u001b[38;5;241m.\u001b[39mpop()\n\u001b[1;32m----> 7\u001b[0m \u001b[38;5;28mprint\u001b[39m(\u001b[43mStack\u001b[49m\u001b[38;5;241;43m.\u001b[39;49m\u001b[43mstack\u001b[49m)\n",
      "\u001b[1;31mAttributeError\u001b[0m: type object 'Stack' has no attribute 'stack'"
     ]
    }
   ],
   "source": [
    "stack = Stack()\n",
    "items = [10* i for i in range(1,10)]\n",
    "for item in items:\n",
    "    stack.push(item)\n",
    "    if (item // 10)%2 == 0:\n",
    "        stack.pop()\n",
    "stack.print_stack()"
   ]
  },
  {
   "cell_type": "code",
   "execution_count": null,
   "id": "56fa8f50",
   "metadata": {},
   "outputs": [],
   "source": []
  }
 ],
 "metadata": {
  "kernelspec": {
   "display_name": "Python 3 (ipykernel)",
   "language": "python",
   "name": "python3"
  },
  "language_info": {
   "codemirror_mode": {
    "name": "ipython",
    "version": 3
   },
   "file_extension": ".py",
   "mimetype": "text/x-python",
   "name": "python",
   "nbconvert_exporter": "python",
   "pygments_lexer": "ipython3",
   "version": "3.9.12"
  }
 },
 "nbformat": 4,
 "nbformat_minor": 5
}
